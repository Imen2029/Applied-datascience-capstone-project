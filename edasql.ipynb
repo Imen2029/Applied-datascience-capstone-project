{
 "cells": [
  {
   "cell_type": "markdown",
   "id": "75877087-28b3-4625-a3f1-ff939c02ab4b",
   "metadata": {},
   "source": [
    "# Here i use sqlite instead of DB2"
   ]
  },
  {
   "cell_type": "code",
   "execution_count": null,
   "id": "13fb6dbb-039d-4bec-a377-e7f6c6f1021e",
   "metadata": {},
   "outputs": [],
   "source": [
    "#Install & load sqlite3\n",
    "#!pip install sqlite3  ##Uncomment the code to install sqlite3\n",
    "import sqlite3"
   ]
  },
  {
   "cell_type": "code",
   "execution_count": 3,
   "id": "6bd2e111-1db5-4c1d-87aa-8d7e54ed8ab6",
   "metadata": {},
   "outputs": [],
   "source": [
    "import pandas as pd\n",
    "space=pd.read_csv('Spacex.csv')"
   ]
  },
  {
   "cell_type": "code",
   "execution_count": 4,
   "id": "f2d7f917-7fef-4e4d-a663-9784db4d055b",
   "metadata": {},
   "outputs": [
    {
     "name": "stdout",
     "output_type": "stream",
     "text": [
      "<class 'pandas.core.frame.DataFrame'>\n",
      "RangeIndex: 101 entries, 0 to 100\n",
      "Data columns (total 10 columns):\n",
      " #   Column             Non-Null Count  Dtype \n",
      "---  ------             --------------  ----- \n",
      " 0   Date               101 non-null    object\n",
      " 1   Time (UTC)         101 non-null    object\n",
      " 2   Booster_Version    101 non-null    object\n",
      " 3   Launch_Site        101 non-null    object\n",
      " 4   Payload            101 non-null    object\n",
      " 5   PAYLOAD_MASS__KG_  101 non-null    int64 \n",
      " 6   Orbit              101 non-null    object\n",
      " 7   Customer           101 non-null    object\n",
      " 8   Mission_Outcome    101 non-null    object\n",
      " 9   Landing _Outcome   101 non-null    object\n",
      "dtypes: int64(1), object(9)\n",
      "memory usage: 8.0+ KB\n"
     ]
    }
   ],
   "source": [
    "space.info()"
   ]
  },
  {
   "cell_type": "code",
   "execution_count": 9,
   "id": "12758d5e-a8c3-46d7-8956-b9ca87608571",
   "metadata": {},
   "outputs": [],
   "source": [
    "#create an sqllite database\n",
    "from pathlib import Path\n",
    "Path('spacex.db').touch()"
   ]
  },
  {
   "cell_type": "code",
   "execution_count": 10,
   "id": "646ee045-a125-4887-b561-a6aba7ff21f3",
   "metadata": {},
   "outputs": [],
   "source": [
    "#Create a database connection and cursor to execute queries\n",
    "\n",
    "conn = sqlite3.connect('spacex.db')\n",
    "c = conn.cursor()"
   ]
  },
  {
   "cell_type": "code",
   "execution_count": 11,
   "id": "935c2849-f8d8-4fd3-9836-fccf8ea2789a",
   "metadata": {},
   "outputs": [
    {
     "data": {
      "text/plain": [
       "<sqlite3.Cursor at 0x7f3c85bb5dc0>"
      ]
     },
     "execution_count": 11,
     "metadata": {},
     "output_type": "execute_result"
    }
   ],
   "source": [
    "# Drop the table if already exists.\n",
    "c.execute(\"DROP TABLE IF EXISTS space\")"
   ]
  },
  {
   "cell_type": "code",
   "execution_count": 12,
   "id": "c478f64e-6cbe-408d-9f85-dc9c579a4ef0",
   "metadata": {},
   "outputs": [
    {
     "name": "stderr",
     "output_type": "stream",
     "text": [
      "/home/jupyterlab/conda/envs/python/lib/python3.7/site-packages/pandas/core/generic.py:2882: UserWarning: The spaces in these column names will not be changed. In pandas versions < 0.14, spaces were converted to underscores.\n",
      "  method=method,\n"
     ]
    }
   ],
   "source": [
    "\n",
    "# write the data to a sqlite table\n",
    "space.to_sql('space', conn, if_exists='append', index = False)"
   ]
  },
  {
   "cell_type": "code",
   "execution_count": 54,
   "id": "9bda446a-4ea3-4960-b9a7-3bed9d8e8653",
   "metadata": {},
   "outputs": [
    {
     "data": {
      "text/plain": [
       "[(0, 'Date', 'TEXT', 0, None, 0),\n",
       " (1, 'Time (UTC)', 'TEXT', 0, None, 0),\n",
       " (2, 'Booster_Version', 'TEXT', 0, None, 0),\n",
       " (3, 'Launch_Site', 'TEXT', 0, None, 0),\n",
       " (4, 'Payload', 'TEXT', 0, None, 0),\n",
       " (5, 'PAYLOAD_MASS__KG_', 'INTEGER', 0, None, 0),\n",
       " (6, 'Orbit', 'TEXT', 0, None, 0),\n",
       " (7, 'Customer', 'TEXT', 0, None, 0),\n",
       " (8, 'Mission_Outcome', 'TEXT', 0, None, 0),\n",
       " (9, 'Landing _Outcome', 'TEXT', 0, None, 0)]"
      ]
     },
     "execution_count": 54,
     "metadata": {},
     "output_type": "execute_result"
    }
   ],
   "source": [
    "#List the attributs' type.\n",
    "c.execute('''pragma table_info('space')''')\n",
    "c.fetchall()"
   ]
  },
  {
   "cell_type": "markdown",
   "id": "9206ad07-4029-4357-952f-793371177794",
   "metadata": {},
   "source": [
    "### Note\n",
    "#### In order to modify the type of the date in date I copy the space table into a space3. space3 is a new table created originally empty with the desired columns type"
   ]
  },
  {
   "cell_type": "code",
   "execution_count": 67,
   "id": "1275892b-8a5d-40b5-add7-a338d0ba754b",
   "metadata": {},
   "outputs": [
    {
     "name": "stdout",
     "output_type": "stream",
     "text": [
      "Table data :\n",
      "[]\n"
     ]
    }
   ],
   "source": [
    "c.executescript(\"\"\" \n",
    "    CREATE TABLE space3 (\n",
    "            Date Date ,Time VARCHAR(255),'Booster_Version' VARCHAR(255),'Launch_Site' VARCHAR(255),\n",
    "            'Payload' VARCHAR(255), 'PAYLOAD_MASS__KG_' VARCHAR(255), 'Orbit' VARCHAR(255), 'Customer' VARCHAR(255), \n",
    "             'Mission_Outcome' VARCHAR(255), 'Landing _Outcome' VARCHAR(255));\n",
    "    INSERT INTO space3 SELECT * FROM space;\n",
    "\"\"\")\n",
    "  \n",
    "# fetch the table data\n",
    "print(\"Table data :\")\n",
    "c.execute('''DROP TABLE space''')\n",
    "print(c.fetchall())"
   ]
  },
  {
   "cell_type": "code",
   "execution_count": 69,
   "id": "e88550fe-1f69-46a2-98be-5d104dc88dab",
   "metadata": {},
   "outputs": [
    {
     "data": {
      "text/plain": [
       "[(0, 'Date', 'Date', 0, None, 0),\n",
       " (1, 'Time', 'VARCHAR(255)', 0, None, 0),\n",
       " (2, 'Booster_Version', 'VARCHAR(255)', 0, None, 0),\n",
       " (3, 'Launch_Site', 'VARCHAR(255)', 0, None, 0),\n",
       " (4, 'Payload', 'VARCHAR(255)', 0, None, 0),\n",
       " (5, 'PAYLOAD_MASS__KG_', 'VARCHAR(255)', 0, None, 0),\n",
       " (6, 'Orbit', 'VARCHAR(255)', 0, None, 0),\n",
       " (7, 'Customer', 'VARCHAR(255)', 0, None, 0),\n",
       " (8, 'Mission_Outcome', 'VARCHAR(255)', 0, None, 0),\n",
       " (9, 'Landing _Outcome', 'VARCHAR(255)', 0, None, 0)]"
      ]
     },
     "execution_count": 69,
     "metadata": {},
     "output_type": "execute_result"
    }
   ],
   "source": [
    "c.execute('''pragma table_info('space3')''')\n",
    "c.fetchall()"
   ]
  },
  {
   "cell_type": "code",
   "execution_count": 68,
   "id": "3fca583f-2664-4628-bba1-8eddbd559706",
   "metadata": {},
   "outputs": [
    {
     "name": "stdout",
     "output_type": "stream",
     "text": [
      "All the data\n",
      "('04-06-2010', '18:45:00', 'F9 v1.0  B0003', 'CCAFS LC-40', 'Dragon Spacecraft Qualification Unit', '0', 'LEO', 'SpaceX', 'Success', 'Failure (parachute)')\n",
      "('08-12-2010', '15:43:00', 'F9 v1.0  B0004', 'CCAFS LC-40', 'Dragon demo flight C1, two CubeSats, barrel of Brouere cheese', '0', 'LEO (ISS)', 'NASA (COTS) NRO', 'Success', 'Failure (parachute)')\n",
      "('22-05-2012', '07:44:00', 'F9 v1.0  B0005', 'CCAFS LC-40', 'Dragon demo flight C2', '525', 'LEO (ISS)', 'NASA (COTS)', 'Success', 'No attempt')\n",
      "('08-10-2012', '00:35:00', 'F9 v1.0  B0006', 'CCAFS LC-40', 'SpaceX CRS-1', '500', 'LEO (ISS)', 'NASA (CRS)', 'Success', 'No attempt')\n",
      "('01-03-2013', '15:10:00', 'F9 v1.0  B0007', 'CCAFS LC-40', 'SpaceX CRS-2', '677', 'LEO (ISS)', 'NASA (CRS)', 'Success', 'No attempt')\n",
      "('29-09-2013', '16:00:00', 'F9 v1.1  B1003', 'VAFB SLC-4E', 'CASSIOPE', '500', 'Polar LEO', 'MDA', 'Success', 'Uncontrolled (ocean)')\n",
      "('03-12-2013', '22:41:00', 'F9 v1.1', 'CCAFS LC-40', 'SES-8', '3170', 'GTO', 'SES', 'Success', 'No attempt')\n",
      "('06-01-2014', '22:06:00', 'F9 v1.1', 'CCAFS LC-40', 'Thaicom 6', '3325', 'GTO', 'Thaicom', 'Success', 'No attempt')\n",
      "('18-04-2014', '19:25:00', 'F9 v1.1', 'CCAFS LC-40', 'SpaceX CRS-3', '2296', 'LEO (ISS)', 'NASA (CRS)', 'Success', 'Controlled (ocean)')\n",
      "('14-07-2014', '15:15:00', 'F9 v1.1', 'CCAFS LC-40', 'OG2 Mission 1  6 Orbcomm-OG2 satellites', '1316', 'LEO', 'Orbcomm', 'Success', 'Controlled (ocean)')\n",
      "('05-08-2014', '08:00:00', 'F9 v1.1', 'CCAFS LC-40', 'AsiaSat 8', '4535', 'GTO', 'AsiaSat', 'Success', 'No attempt')\n",
      "('07-09-2014', '05:00:00', 'F9 v1.1 B1011', 'CCAFS LC-40', 'AsiaSat 6', '4428', 'GTO', 'AsiaSat', 'Success', 'No attempt')\n",
      "('21-09-2014', '05:52:00', 'F9 v1.1 B1010', 'CCAFS LC-40', 'SpaceX CRS-4', '2216', 'LEO (ISS)', 'NASA (CRS)', 'Success', 'Uncontrolled (ocean)')\n",
      "('10-01-2015', '09:47:00', 'F9 v1.1 B1012', 'CCAFS LC-40', 'SpaceX CRS-5', '2395', 'LEO (ISS)', 'NASA (CRS)', 'Success', 'Failure (drone ship)')\n",
      "('11-02-2015', '23:03:00', 'F9 v1.1 B1013', 'CCAFS LC-40', 'DSCOVR', '570', 'HEO', 'U.S. Air Force NASA NOAA', 'Success', 'Controlled (ocean)')\n",
      "('02-03-2015', '03:50:00', 'F9 v1.1 B1014', 'CCAFS LC-40', 'ABS-3A Eutelsat 115 West B', '4159', 'GTO', 'ABS Eutelsat', 'Success', 'No attempt')\n",
      "('14-04-2015', '20:10:00', 'F9 v1.1 B1015', 'CCAFS LC-40', 'SpaceX CRS-6', '1898', 'LEO (ISS)', 'NASA (CRS)', 'Success', 'Failure (drone ship)')\n",
      "('27-04-2015', '23:03:00', 'F9 v1.1 B1016', 'CCAFS LC-40', 'Turkmen 52 / MonacoSAT', '4707', 'GTO', 'Turkmenistan National Space Agency', 'Success', 'No attempt')\n",
      "('28-06-2015', '14:21:00', 'F9 v1.1 B1018', 'CCAFS LC-40', 'SpaceX CRS-7', '1952', 'LEO (ISS)', 'NASA (CRS)', 'Failure (in flight)', 'Precluded (drone ship)')\n",
      "('22-12-2015', '01:29:00', 'F9 FT B1019', 'CCAFS LC-40', 'OG2 Mission 2  11 Orbcomm-OG2 satellites', '2034', 'LEO', 'Orbcomm', 'Success', 'Success (ground pad)')\n",
      "('17-01-2016', '18:42:00', 'F9 v1.1 B1017', 'VAFB SLC-4E', 'Jason-3', '553', 'LEO', 'NASA (LSP) NOAA CNES', 'Success', 'Failure (drone ship)')\n",
      "('04-03-2016', '23:35:00', 'F9 FT B1020', 'CCAFS LC-40', 'SES-9', '5271', 'GTO', 'SES', 'Success', 'Failure (drone ship)')\n",
      "('08-04-2016', '20:43:00', 'F9 FT B1021.1', 'CCAFS LC-40', 'SpaceX CRS-8', '3136', 'LEO (ISS)', 'NASA (CRS)', 'Success', 'Success (drone ship)')\n",
      "('06-05-2016', '05:21:00', 'F9 FT B1022', 'CCAFS LC-40', 'JCSAT-14', '4696', 'GTO', 'SKY Perfect JSAT Group', 'Success', 'Success (drone ship)')\n",
      "('27-05-2016', '21:39:00', 'F9 FT B1023.1', 'CCAFS LC-40', 'Thaicom 8', '3100', 'GTO', 'Thaicom', 'Success', 'Success (drone ship)')\n",
      "('15-06-2016', '14:29:00', 'F9 FT B1024', 'CCAFS LC-40', 'ABS-2A Eutelsat 117 West B', '3600', 'GTO', 'ABS Eutelsat', 'Success', 'Failure (drone ship)')\n",
      "('18-07-2016', '04:45:00', 'F9 FT B1025.1', 'CCAFS LC-40', 'SpaceX CRS-9', '2257', 'LEO (ISS)', 'NASA (CRS)', 'Success', 'Success (ground pad)')\n",
      "('14-08-2016', '05:26:00', 'F9 FT B1026', 'CCAFS LC-40', 'JCSAT-16', '4600', 'GTO', 'SKY Perfect JSAT Group', 'Success', 'Success (drone ship)')\n",
      "('14-01-2017', '17:54:00', 'F9 FT B1029.1', 'VAFB SLC-4E', 'Iridium NEXT 1', '9600', 'Polar LEO', 'Iridium Communications', 'Success', 'Success (drone ship)')\n",
      "('19-02-2017', '14:39:00', 'F9 FT B1031.1', 'KSC LC-39A', 'SpaceX CRS-10', '2490', 'LEO (ISS)', 'NASA (CRS)', 'Success', 'Success (ground pad)')\n",
      "('16-03-2017', '06:00:00', 'F9 FT B1030', 'KSC LC-39A', 'EchoStar 23', '5600', 'GTO', 'EchoStar', 'Success', 'No attempt')\n",
      "('30-03-2017', '22:27:00', 'F9 FT  B1021.2', 'KSC LC-39A', 'SES-10', '5300', 'GTO', 'SES', 'Success', 'Success (drone ship)')\n",
      "('01-05-2017', '11:15:00', 'F9 FT B1032.1', 'KSC LC-39A', 'NROL-76', '5300', 'LEO', 'NRO', 'Success', 'Success (ground pad)')\n",
      "('15-05-2017', '23:21:00', 'F9 FT B1034', 'KSC LC-39A', 'Inmarsat-5 F4', '6070', 'GTO', 'Inmarsat', 'Success', 'No attempt')\n",
      "('03-06-2017', '21:07:00', 'F9 FT B1035.1', 'KSC LC-39A', 'SpaceX CRS-11', '2708', 'LEO (ISS)', 'NASA (CRS)', 'Success', 'Success (ground pad)')\n",
      "('23-06-2017', '19:10:00', 'F9 FT  B1029.2', 'KSC LC-39A', 'BulgariaSat-1', '3669', 'GTO', 'Bulsatcom', 'Success', 'Success (drone ship)')\n",
      "('25-06-2017', '20:25:00', 'F9 FT B1036.1', 'VAFB SLC-4E', 'Iridium NEXT 2', '9600', 'LEO', 'Iridium Communications', 'Success', 'Success (drone ship)')\n",
      "('05-07-2017', '23:38:00', 'F9 FT B1037', 'KSC LC-39A', 'Intelsat 35e', '6761', 'GTO', 'Intelsat', 'Success', 'No attempt')\n",
      "('14-08-2017', '16:31:00', 'F9 B4 B1039.1', 'KSC LC-39A', 'SpaceX CRS-12', '3310', 'LEO (ISS)', 'NASA (CRS)', 'Success', 'Success (ground pad)')\n",
      "('24-08-2017', '18:51:00', 'F9 FT B1038.1', 'VAFB SLC-4E', 'Formosat-5', '475', 'SSO', 'NSPO', 'Success', 'Success (drone ship)')\n",
      "('07-09-2017', '14:00:00', 'F9 B4 B1040.1', 'KSC LC-39A', 'Boeing X-37B OTV-5', '4990', 'LEO', 'U.S. Air Force', 'Success', 'Success (ground pad)')\n",
      "('09-10-2017', '12:37:00', 'F9 B4 B1041.1', 'VAFB SLC-4E', 'Iridium NEXT 3', '9600', 'Polar LEO', 'Iridium Communications', 'Success', 'Success (drone ship)')\n",
      "('11-10-2017', '22:53:00', 'F9 FT  B1031.2', 'KSC LC-39A', 'SES-11 / EchoStar 105', '5200', 'GTO', 'SES EchoStar', 'Success', 'Success (drone ship)')\n",
      "('30-10-2017', '19:34:00', 'F9 B4 B1042.1', 'KSC LC-39A', 'Koreasat 5A', '3500', 'GTO', 'KT Corporation', 'Success', 'Success (drone ship)')\n",
      "('15-12-2017', '15:36:00', 'F9 FT  B1035.2', 'CCAFS SLC-40', 'SpaceX CRS-13', '2205', 'LEO (ISS)', 'NASA (CRS)', 'Success', 'Success (ground pad)')\n",
      "('23-12-2017', '01:27:00', 'F9 FT  B1036.2', 'VAFB SLC-4E', 'Iridium NEXT 4', '9600', 'Polar LEO', 'Iridium Communications', 'Success', 'Controlled (ocean)')\n",
      "('08-01-2018', '01:00:00', 'F9 B4 B1043.1', 'CCAFS SLC-40', 'Zuma', '5000', 'LEO', 'Northrop Grumman', 'Success (payload status unclear)', 'Success (ground pad)')\n",
      "('31-01-2018', '21:25:00', 'F9 FT  B1032.2', 'CCAFS SLC-40', 'GovSat-1 / SES-16', '4230', 'GTO', 'SES', 'Success', 'Controlled (ocean)')\n",
      "('22-02-2018', '14:17:00', 'F9 FT  B1038.2', 'VAFB SLC-4E', 'Paz  Tintin A & B', '2150', 'SSO', 'Hisdesat exactEarth SpaceX', 'Success', 'No attempt')\n",
      "('06-03-2018', '05:33:00', 'F9 B4 B1044', 'CCAFS SLC-40', 'Hispasat 30W-6  PODSat', '6092', 'GTO', 'Hispasat  NovaWurks', 'Success', 'No attempt')\n",
      "('30-03-2018', '14:14:00', 'F9 B4  B1041.2', 'VAFB SLC-4E', 'Iridium NEXT 5', '9600', 'Polar LEO', 'Iridium Communications', 'Success', 'No attempt')\n",
      "('02-04-2018', '20:30:00', 'F9 B4  B1039.2', 'CCAFS SLC-40', 'SpaceX CRS-14', '2647', 'LEO (ISS)', 'NASA (CRS)', 'Success', 'No attempt')\n",
      "('18-04-2018', '22:51:00', 'F9 B4 B1045.1', 'CCAFS SLC-40', 'Transiting Exoplanet Survey Satellite (TESS)', '362', 'HEO', 'NASA (LSP)', 'Success', 'Success (drone ship)')\n",
      "('11-05-2018', '20:14:00', 'F9 B5  B1046.1', 'KSC LC-39A', 'Bangabandhu-1', '3600', 'GTO', 'Thales-Alenia/BTRC', 'Success', 'Success (drone ship)')\n",
      "('22-05-2018', '19:47:58', 'F9 B4  B1043.2', 'VAFB SLC-4E', 'Iridium NEXT 6   GRACE-FO 1, 2', '6460', 'Polar LEO', 'Iridium Communications GFZ ‚ NASA', 'Success', 'No attempt')\n",
      "('04-06-2018', '04:45:00', 'F9 B4  B1040.2', 'CCAFS SLC-40', 'SES-12', '5384', 'GTO', 'SES', 'Success', 'No attempt')\n",
      "('29-06-2018', '09:42:00', 'F9 B4 B1045.2', 'CCAFS SLC-40', 'SpaceX CRS-15', '2697', 'LEO (ISS)', 'NASA (CRS)', 'Success', 'No attempt')\n",
      "('22-07-2018', '05:50:00', 'F9 B5B1047.1', 'CCAFS SLC-40', 'Telstar 19V', '7075', 'GTO', 'Telesat', 'Success', 'Success')\n",
      "('25-07-2018', '11:39:00', 'F9 B5B1048.1', 'VAFB SLC-4E', 'Iridium NEXT-7', '9600', 'Polar LEO', 'Iridium Communications', 'Success', 'Success')\n",
      "('07-08-2018', '05:18:00', 'F9 B5 B1046.2', 'CCAFS SLC-40', 'Merah Putih ', '5800', 'GTO', 'Telkom Indonesia', 'Success', 'Success')\n",
      "('10-09-2018', '04:45:00', 'F9 B5B1049.1', 'CCAFS SLC-40', 'Telstar 18V / Apstar-5C', '7060', 'GTO', 'Telesat', 'Success', 'Success')\n",
      "('08-10-2018', '02:22:00', 'F9 B5 B1048.2', 'VAFB SLC-4E', 'SAOCOM 1A', '3000', 'SSO', 'CONAE', 'Success', 'Success')\n",
      "('15-11-2018', '20:46:00', 'F9 B5 B1047.2', 'KSC LC-39A', 'Es hail 2', '5300', 'GTO', 'Es hailSat', 'Success', 'Success')\n",
      "('03-12-2018', '18:34:05', 'F9 B5 B1046.3', 'VAFB SLC-4E', 'SSO-A ', '4000', 'SSO', 'Spaceflight Industries', 'Success', 'Success')\n",
      "('05-12-2018', '18:16:00', 'F9 B5B1050', 'CCAFS SLC-40', 'SpaceX CRS-16', '2500', 'LEO (ISS)', 'NASA (CRS)', 'Success', 'Failure')\n",
      "('23-12-2018', '13:51:00', 'F9 B5B1054', 'CCAFS SLC-40', 'GPS III-01 ', '4400', 'MEO', 'USAF', 'Success ', 'No attempt')\n",
      "('11-01-2019', '15:31:00', 'F9 B5 B1049.2', 'VAFB SLC-4E', 'Iridium NEXT-8', '9600', 'Polar LEO', 'Iridium Communications', 'Success', 'Success')\n",
      "('22-02-2019', '01:45:00', 'F9 B5 B1048.3', 'CCAFS SLC-40', 'Nusantara Satu, Beresheet Moon lander, S5', '4850', 'GTO', 'PSN, SpaceIL / IAI', 'Success', 'Success')\n",
      "('02-03-2019', '07:49:00', 'F9 B5B1051.1', 'KSC LC-39A', 'Crew Dragon Demo-1, SpaceX CRS-17 ', '12055', 'LEO (ISS)', 'NASA (CCD) ', 'Success', 'Success')\n",
      "('04-05-2019', '06:48:00', 'F9 B5B1056.1 ', 'CCAFS SLC-40', 'SpaceX CRS-17, Starlink v0.9', '2495', 'LEO (ISS)', 'NASA (CRS)', 'Success', 'Success')\n",
      "('24-05-2019', '02:30:00', 'F9 B5 B1049.3', 'CCAFS SLC-40', 'Starlink v0.9, RADARSAT Constellation', '13620', 'LEO', 'SpaceX', 'Success', 'Success')\n",
      "('12-06-2019', '14:17:00', 'F9 B5 B1051.2 ', 'VAFB SLC-4E', 'RADARSAT Constellation, SpaceX CRS-18 ', '4200', 'SSO', 'Canadian Space Agency (CSA)', 'Success', 'Success')\n",
      "('25-07-2019', '22:01:00', 'F9 B5 B1056.2 ', 'CCAFS SLC-40', 'SpaceX CRS-18, AMOS-17 ', '2268', 'LEO (ISS)', 'NASA (CRS)', 'Success', 'Success')\n",
      "('06-08-2019', '23:23:00', 'F9 B5 B1047.3 ', 'CCAFS SLC-40', 'AMOS-17, Starlink 1 v1.0 ', '6500', 'GTO', 'Spacecom', 'Success', 'No attempt ')\n",
      "('11-11-2019', '14:56:00', 'F9 B5 B1048.4', 'CCAFS SLC-40', 'Starlink 1 v1.0, SpaceX CRS-19 ', '15600', 'LEO', 'SpaceX', 'Success', 'Success')\n",
      "('05-12-2019', '17:29:00', 'F9 B5B1059.1', 'CCAFS SLC-40', 'SpaceX CRS-19, JCSat-18 / Kacific 1 ', '2617', 'LEO (ISS)', 'NASA (CRS), Kacific 1', 'Success', 'Success')\n",
      "('17-12-2019', '00:10:00', 'F9 B5 B1056.3 ', 'CCAFS SLC-40', 'JCSat-18 / Kacific 1, Starlink 2 v1.0 ', '6956', 'GTO', 'Sky Perfect JSAT, Kacific 1', 'Success', 'Success')\n",
      "('07-01-2020', '02:33:00', 'F9 B5 B1049.4', 'CCAFS SLC-40', 'Starlink 2 v1.0, Crew Dragon in-flight abort test ', '15600', 'LEO', 'SpaceX', 'Success', 'Success')\n",
      "('19-01-2020', '15:30:00', 'F9 B5 B1046.4', 'KSC LC-39A', 'Crew Dragon in-flight abort test, Starlink 3 v1.0 ', '12050', 'Sub-orbital', 'NASA (CTS)', 'Success', 'No attempt')\n",
      "('29-01-2020', '14:07:00', 'F9 B5 B1051.3', 'CCAFS SLC-40', 'Starlink 3 v1.0, Starlink 4 v1.0 ', '15600', 'LEO', 'SpaceX', 'Success', 'Success')\n",
      "('17-02-2020', '15:05:00', 'F9 B5 B1056.4', 'CCAFS SLC-40', 'Starlink 4 v1.0, SpaceX CRS-20', '15600', 'LEO', 'SpaceX', 'Success', 'Failure')\n",
      "('07-03-2020', '04:50:00', 'F9 B5 B1059.2', 'CCAFS SLC-40', 'SpaceX CRS-20, Starlink 5 v1.0 ', '1977', 'LEO (ISS)', 'NASA (CRS)', 'Success', 'Success')\n",
      "('18-03-2020', '12:16:00', 'F9 B5 B1048.5', 'KSC LC-39A', 'Starlink 5 v1.0, Starlink 6 v1.0 ', '15600', 'LEO', 'SpaceX', 'Success', 'Failure')\n",
      "('22-04-2020', '19:30:00', 'F9 B5 B1051.4', 'KSC LC-39A', 'Starlink 6 v1.0, Crew Dragon Demo-2 ', '15600', 'LEO', 'SpaceX', 'Success', 'Success')\n",
      "('30-05-2020', '19:22:00', 'F9 B5B1058.1 ', 'KSC LC-39A', 'Crew Dragon Demo-2, Starlink 7 v1.0 ', '12530', 'LEO (ISS)', 'NASA (CCDev)', 'Success', 'Success')\n",
      "('04-06-2020', '01:25:00', 'F9 B5 B1049.5', 'CCAFS SLC-40', 'Starlink 7 v1.0, Starlink 8 v1.0', '15600', 'LEO', 'SpaceX, Planet Labs', 'Success', 'Success')\n",
      "('13-06-2020', '09:21:00', 'F9 B5 B1059.3', 'CCAFS SLC-40', 'Starlink 8 v1.0, SkySats-16, -17, -18, GPS III-03 ', '15410', 'LEO', 'SpaceX, Planet Labs', 'Success', 'Success')\n",
      "('30-06-2020', '20:10:46', 'F9 B5B1060.1', 'CCAFS SLC-40', 'GPS III-03, ANASIS-II', '4311', 'MEO', 'U.S. Space Force', 'Success', 'Success')\n",
      "('20-07-2020', '21:30:00', 'F9 B5 B1058.2 ', 'CCAFS SLC-40', 'ANASIS-II, Starlink 9 v1.0', '5500', 'GTO', 'Republic of Korea Army, Spaceflight Industries (BlackSky)', 'Success', 'Success')\n",
      "('07-08-2020', '05:12:00', 'F9 B5 B1051.5', 'KSC LC-39A', 'Starlink 9 v1.0, SXRS-1, Starlink 10 v1.0 ', '14932', 'LEO', 'SpaceX, Spaceflight Industries (BlackSky), Planet Labs', 'Success', 'Success')\n",
      "('18-08-2020', '14:31:00', 'F9 B5 B1049.6', 'CCAFS SLC-40', 'Starlink 10 v1.0, SkySat-19, -20, -21, SAOCOM 1B ', '15440', 'LEO', 'SpaceX, Planet Labs, PlanetIQ', 'Success', 'Success')\n",
      "('30-08-2020', '23:18:00', 'F9 B5 B1059.4', 'CCAFS SLC-40', 'SAOCOM 1B, GNOMES 1, Tyvak-0172', '3130', 'SSO', 'CONAE, PlanetIQ, SpaceX', 'Success', 'Success')\n",
      "('03-09-2020', '12:46:14', 'F9 B5 B1060.2 ', 'KSC LC-39A', 'Starlink 11 v1.0, Starlink 12 v1.0 ', '15600', 'LEO', 'SpaceX', 'Success', 'Success')\n",
      "('06-10-2020', '11:29:34', 'F9 B5 B1058.3 ', 'KSC LC-39A', 'Starlink 12 v1.0, Starlink 13 v1.0 ', '15600', 'LEO', 'SpaceX', 'Success', 'Success')\n",
      "('18-10-2020', '12:25:57', 'F9 B5 B1051.6', 'KSC LC-39A', 'Starlink 13 v1.0, Starlink 14 v1.0 ', '15600', 'LEO', 'SpaceX', 'Success', 'Success')\n",
      "('24-10-2020', '15:31:34', 'F9 B5 B1060.3', 'CCAFS SLC-40', 'Starlink 14 v1.0, GPS III-04  ', '15600', 'LEO', 'SpaceX', 'Success', 'Success')\n",
      "('05-11-2020', '23:24:23', 'F9 B5B1062.1', 'CCAFS SLC-40', 'GPS III-04 , Crew-1', '4311', 'MEO', 'USSF', 'Success', 'Success')\n",
      "('16-11-2020', '00:27:00', 'F9 B5B1061.1 ', 'KSC LC-39A', 'Crew-1, Sentinel-6 Michael Freilich ', '12500', 'LEO (ISS)', 'NASA (CCP)', 'Success', 'Success')\n",
      "('21-11-2020', '17:17:08', 'F9 B5B1063.1', 'VAFB SLC-4E', 'Sentinel-6 Michael Freilich, Starlink 15 v1.0 ', '1192', 'LEO', 'NASA / NOAA / ESA / EUMETSAT', 'Success', 'Success')\n",
      "('25-11-2020', '02:13:00', 'F9 B5 B1049.7 ', 'CCAFS SLC-40', 'Starlink 15 v1.0, SpaceX CRS-21', '15600', 'LEO', 'SpaceX', 'Success', 'Success')\n",
      "('06-12-2020', '16:17:08', 'F9 B5 B1058.4 ', 'KSC LC-39A', 'SpaceX CRS-21', '2972', 'LEO (ISS)', 'NASA (CRS)', 'Success', 'Success')\n"
     ]
    }
   ],
   "source": [
    "statement = '''SELECT * FROM space3'''\n",
    "c.execute(statement)\n",
    "\n",
    "print(\"All the data\")\n",
    "output_all = c.fetchall()\n",
    "for row_all in output_all:\n",
    "  print(row_all)"
   ]
  },
  {
   "cell_type": "code",
   "execution_count": 19,
   "id": "711777d5-1447-4161-8b92-b89dee5f1dc0",
   "metadata": {},
   "outputs": [],
   "source": [
    "#pd.read_sql('''SELECT * FROM space ''', conn)"
   ]
  },
  {
   "cell_type": "markdown",
   "id": "edd7c071-e1b7-466f-8c37-557a33aa7626",
   "metadata": {},
   "source": [
    "### Task 1\n",
    "#### Display the names of the unique launch sites in the space mission"
   ]
  },
  {
   "cell_type": "code",
   "execution_count": 70,
   "id": "9e18ac07-fd74-46f1-8512-1327c7e4b9cb",
   "metadata": {},
   "outputs": [
    {
     "data": {
      "text/plain": [
       "[('CCAFS LC-40',), ('VAFB SLC-4E',), ('KSC LC-39A',), ('CCAFS SLC-40',)]"
      ]
     },
     "execution_count": 70,
     "metadata": {},
     "output_type": "execute_result"
    }
   ],
   "source": [
    "#Display the names of the unique launch sites in the space mission\n",
    "c.execute('''SELECT distinct(Launch_Site) FROM space3''')\n",
    "c.fetchall()"
   ]
  },
  {
   "cell_type": "markdown",
   "id": "c1428dc4-205e-46f4-b592-9dcce4da3d85",
   "metadata": {},
   "source": [
    "### Task 2\n",
    "#### Display 5 records where launch sites begin with the string 'CCA'"
   ]
  },
  {
   "cell_type": "code",
   "execution_count": 71,
   "id": "6b54460d-40df-488c-9ea5-c436583ba30d",
   "metadata": {},
   "outputs": [
    {
     "name": "stdout",
     "output_type": "stream",
     "text": [
      "('04-06-2010', '18:45:00', 'F9 v1.0  B0003', 'CCAFS LC-40', 'Dragon Spacecraft Qualification Unit', '0', 'LEO', 'SpaceX', 'Success', 'Failure (parachute)')\n",
      "('08-12-2010', '15:43:00', 'F9 v1.0  B0004', 'CCAFS LC-40', 'Dragon demo flight C1, two CubeSats, barrel of Brouere cheese', '0', 'LEO (ISS)', 'NASA (COTS) NRO', 'Success', 'Failure (parachute)')\n",
      "('22-05-2012', '07:44:00', 'F9 v1.0  B0005', 'CCAFS LC-40', 'Dragon demo flight C2', '525', 'LEO (ISS)', 'NASA (COTS)', 'Success', 'No attempt')\n",
      "('08-10-2012', '00:35:00', 'F9 v1.0  B0006', 'CCAFS LC-40', 'SpaceX CRS-1', '500', 'LEO (ISS)', 'NASA (CRS)', 'Success', 'No attempt')\n",
      "('01-03-2013', '15:10:00', 'F9 v1.0  B0007', 'CCAFS LC-40', 'SpaceX CRS-2', '677', 'LEO (ISS)', 'NASA (CRS)', 'Success', 'No attempt')\n"
     ]
    }
   ],
   "source": [
    "#Display 5 records where launch sites begin with the string 'CCA'\n",
    "condi='%CCA,'\n",
    "q='SELECT * FROM space3 where Launch_Site like ?'\n",
    "c.execute('''SELECT * FROM space3  where Launch_Site LIKE 'CCAFS%' Limit 5''')\n",
    "#c.execute(q,condi)\n",
    "#c.fetchall()\n",
    "output_all = c.fetchall()\n",
    "for row_all in output_all:\n",
    "  print(row_all)"
   ]
  },
  {
   "cell_type": "markdown",
   "id": "5338157e-4169-4d38-8ffc-31bd374a0c4a",
   "metadata": {},
   "source": [
    "### Task 3\n",
    "#### Display the total payload mass carried by boosters launched by NASA (CRS)"
   ]
  },
  {
   "cell_type": "code",
   "execution_count": 72,
   "id": "701505ad-c8dd-4bf2-a4de-7f1eeb1a728b",
   "metadata": {},
   "outputs": [
    {
     "data": {
      "text/plain": [
       "[(45596,)]"
      ]
     },
     "execution_count": 72,
     "metadata": {},
     "output_type": "execute_result"
    }
   ],
   "source": [
    "#Display the total payload mass carried by boosters launched by NASA (CRS)\n",
    "c.execute('''SELECT sum(PAYLOAD_MASS__KG_) as total_payload FROM space3  where Customer='NASA (CRS)' ''')\n",
    "c.fetchall()"
   ]
  },
  {
   "cell_type": "markdown",
   "id": "79847cf7-9dac-4630-8027-900dc3cbe557",
   "metadata": {},
   "source": [
    "### Task 4\n",
    "#### Display average payload mass carried by booster version F9 v1.1"
   ]
  },
  {
   "cell_type": "code",
   "execution_count": 73,
   "id": "58be307f-937f-409b-b062-1baf106cd2bd",
   "metadata": {},
   "outputs": [
    {
     "data": {
      "text/plain": [
       "[(2928.4,)]"
      ]
     },
     "execution_count": 73,
     "metadata": {},
     "output_type": "execute_result"
    }
   ],
   "source": [
    "#Display average payload mass carried by booster version F9 v1.1\n",
    "c.execute('''SELECT avg(PAYLOAD_MASS__KG_) as avg_payload FROM space3  where  Booster_Version='F9 v1.1' ''')\n",
    "c.fetchall()"
   ]
  },
  {
   "cell_type": "markdown",
   "id": "d69dba5a-3763-44a7-b9e1-1913ccd2b8d2",
   "metadata": {},
   "source": [
    "### Task 5\n",
    "#### List the date when the first successful landing outcome in ground pad was acheived.\n",
    "##### Hint:Use min function"
   ]
  },
  {
   "cell_type": "code",
   "execution_count": 81,
   "id": "a241d0dc-b323-482a-8d1a-ae6b2b2b62dc",
   "metadata": {},
   "outputs": [
    {
     "data": {
      "text/plain": [
       "[('01-05-2017',)]"
      ]
     },
     "execution_count": 81,
     "metadata": {},
     "output_type": "execute_result"
    }
   ],
   "source": [
    "#List the date when the first successful landing outcome in ground pad was acheived.\n",
    "c.execute('''select min (Date) from space3 where [Landing _Outcome] Like 'Success %'\n",
    "''')\n",
    "c.fetchall()"
   ]
  },
  {
   "cell_type": "markdown",
   "id": "90b24754-0ad2-4c08-a398-3be4a705f543",
   "metadata": {},
   "source": [
    "### Task 6\n",
    "#### List the names of the boosters which have success in drone ship and have payload mass greater than 4000 but less than 6000"
   ]
  },
  {
   "cell_type": "code",
   "execution_count": 75,
   "id": "e4b1f92d-4fdf-4fb6-b024-8a32ad66a82e",
   "metadata": {},
   "outputs": [
    {
     "name": "stdout",
     "output_type": "stream",
     "text": [
      "('06-05-2016', '05:21:00', 'F9 FT B1022', 'CCAFS LC-40', 'JCSAT-14', '4696', 'GTO', 'SKY Perfect JSAT Group', 'Success', 'Success (drone ship)')\n",
      "('14-08-2016', '05:26:00', 'F9 FT B1026', 'CCAFS LC-40', 'JCSAT-16', '4600', 'GTO', 'SKY Perfect JSAT Group', 'Success', 'Success (drone ship)')\n",
      "('30-03-2017', '22:27:00', 'F9 FT  B1021.2', 'KSC LC-39A', 'SES-10', '5300', 'GTO', 'SES', 'Success', 'Success (drone ship)')\n",
      "('24-08-2017', '18:51:00', 'F9 FT B1038.1', 'VAFB SLC-4E', 'Formosat-5', '475', 'SSO', 'NSPO', 'Success', 'Success (drone ship)')\n",
      "('11-10-2017', '22:53:00', 'F9 FT  B1031.2', 'KSC LC-39A', 'SES-11 / EchoStar 105', '5200', 'GTO', 'SES EchoStar', 'Success', 'Success (drone ship)')\n"
     ]
    }
   ],
   "source": [
    "\n",
    "c.execute('''select  * from space3\n",
    "where [Landing _Outcome]='Success (drone ship)'\n",
    "and\n",
    "PAYLOAD_MASS__KG_ between 4000 and 6000''')\n",
    "output_all = c.fetchall()\n",
    "for row_all in output_all:\n",
    "  print(row_all)\n"
   ]
  },
  {
   "cell_type": "markdown",
   "id": "08a93d3f-64ab-4ef6-aa6f-8234dc3cab2e",
   "metadata": {},
   "source": [
    "### Task 7\n",
    "#### List the total number of successful and failure mission outcomes"
   ]
  },
  {
   "cell_type": "code",
   "execution_count": 76,
   "id": "e4fda18a-7e04-483b-b837-fd4e2add514f",
   "metadata": {},
   "outputs": [
    {
     "name": "stdout",
     "output_type": "stream",
     "text": [
      "(101,)\n"
     ]
    }
   ],
   "source": [
    "c.execute('''select  count(Mission_Outcome) as Mission_outcome_total from space3\n",
    "''')\n",
    "output_all = c.fetchall()\n",
    "for row_all in output_all:\n",
    "  print(row_all)\n"
   ]
  },
  {
   "cell_type": "markdown",
   "id": "5150b4d7-987f-4c5c-9423-8b5913ad0ea9",
   "metadata": {},
   "source": [
    "### Task 8\n",
    "#### List the names of the booster_versions which have carried the maximum payload mass. Use a subquery"
   ]
  },
  {
   "cell_type": "code",
   "execution_count": 77,
   "id": "b135e162-c1fd-4886-9692-debcbb15bd8b",
   "metadata": {},
   "outputs": [
    {
     "name": "stdout",
     "output_type": "stream",
     "text": [
      "('F9 B5 B1048.4',)\n",
      "('F9 B5 B1049.4',)\n",
      "('F9 B5 B1051.3',)\n",
      "('F9 B5 B1056.4',)\n",
      "('F9 B5 B1048.5',)\n",
      "('F9 B5 B1051.4',)\n",
      "('F9 B5 B1049.5',)\n",
      "('F9 B5 B1060.2 ',)\n",
      "('F9 B5 B1058.3 ',)\n",
      "('F9 B5 B1051.6',)\n",
      "('F9 B5 B1060.3',)\n",
      "('F9 B5 B1049.7 ',)\n"
     ]
    }
   ],
   "source": [
    "c.execute('''select Booster_Version from space3\n",
    "where PAYLOAD_MASS__KG_=(select max(PAYLOAD_MASS__KG_) from space)\n",
    "''')\n",
    "output_all = c.fetchall()\n",
    "for row_all in output_all:\n",
    "  print(row_all)"
   ]
  },
  {
   "cell_type": "markdown",
   "id": "cb75853c-3b99-42f2-8b2d-292e1dfffa09",
   "metadata": {},
   "source": [
    "### Task 9\n",
    "#### List the failed landing_outcomes in drone ship, their booster versions, and launch site names for in year 2015"
   ]
  },
  {
   "cell_type": "code",
   "execution_count": 103,
   "id": "c86862c4-037e-41f5-b4c3-1161fe81c96b",
   "metadata": {},
   "outputs": [],
   "source": [
    "c.execute('''select Date, Booster_Version, Launch_Site from space3 as s\n",
    "where [Landing _Outcome]='Failure (drone ship)'\n",
    "and strftime('%Y', s.Date)='2015'\n",
    "''')\n",
    "\n",
    "output_all = c.fetchall()\n",
    "for row_all in output_all:\n",
    "  print(row_all)"
   ]
  },
  {
   "cell_type": "markdown",
   "id": "6117ae15-fb3c-4148-8784-10c8381e28a1",
   "metadata": {},
   "source": [
    "### Task 10\n",
    "#### Rank the count of landing outcomes (such as Failure (drone ship) or Success (ground pad)) between the date 2010-06-04 and 2017-03-20, in descending order"
   ]
  },
  {
   "cell_type": "code",
   "execution_count": 94,
   "id": "0a69ef95-bb85-4484-80b1-8ace7881bbbb",
   "metadata": {},
   "outputs": [
    {
     "name": "stdout",
     "output_type": "stream",
     "text": [
      "('19-02-2017', '14:39:00', 'F9 FT B1031.1', 'KSC LC-39A', 'SpaceX CRS-10', '2490', 'LEO (ISS)', 'NASA (CRS)', 'Success', 'Success (ground pad)')\n",
      "('18-07-2016', '04:45:00', 'F9 FT B1025.1', 'CCAFS LC-40', 'SpaceX CRS-9', '2257', 'LEO (ISS)', 'NASA (CRS)', 'Success', 'Success (ground pad)')\n",
      "('17-01-2016', '18:42:00', 'F9 v1.1 B1017', 'VAFB SLC-4E', 'Jason-3', '553', 'LEO', 'NASA (LSP) NOAA CNES', 'Success', 'Failure (drone ship)')\n",
      "('15-12-2017', '15:36:00', 'F9 FT  B1035.2', 'CCAFS SLC-40', 'SpaceX CRS-13', '2205', 'LEO (ISS)', 'NASA (CRS)', 'Success', 'Success (ground pad)')\n",
      "('15-06-2016', '14:29:00', 'F9 FT B1024', 'CCAFS LC-40', 'ABS-2A Eutelsat 117 West B', '3600', 'GTO', 'ABS Eutelsat', 'Success', 'Failure (drone ship)')\n",
      "('14-08-2017', '16:31:00', 'F9 B4 B1039.1', 'KSC LC-39A', 'SpaceX CRS-12', '3310', 'LEO (ISS)', 'NASA (CRS)', 'Success', 'Success (ground pad)')\n",
      "('14-04-2015', '20:10:00', 'F9 v1.1 B1015', 'CCAFS LC-40', 'SpaceX CRS-6', '1898', 'LEO (ISS)', 'NASA (CRS)', 'Success', 'Failure (drone ship)')\n",
      "('10-01-2015', '09:47:00', 'F9 v1.1 B1012', 'CCAFS LC-40', 'SpaceX CRS-5', '2395', 'LEO (ISS)', 'NASA (CRS)', 'Success', 'Failure (drone ship)')\n",
      "('08-01-2018', '01:00:00', 'F9 B4 B1043.1', 'CCAFS SLC-40', 'Zuma', '5000', 'LEO', 'Northrop Grumman', 'Success (payload status unclear)', 'Success (ground pad)')\n",
      "('07-09-2017', '14:00:00', 'F9 B4 B1040.1', 'KSC LC-39A', 'Boeing X-37B OTV-5', '4990', 'LEO', 'U.S. Air Force', 'Success', 'Success (ground pad)')\n"
     ]
    }
   ],
   "source": [
    "c.execute('''select  * from space3\n",
    "where [Landing _Outcome] in ('Failure (drone ship)','Success (ground pad)')\n",
    "and Date between '04-06-2010' and '20-03-2017'\n",
    "order by Date desc\n",
    "''')\n",
    "output_all = c.fetchall()\n",
    "for row_all in output_all:\n",
    "  print(row_all)"
   ]
  },
  {
   "cell_type": "code",
   "execution_count": null,
   "id": "874e0c5a-9dd1-46c9-9bf9-366ef7c1aa41",
   "metadata": {},
   "outputs": [],
   "source": []
  }
 ],
 "metadata": {
  "kernelspec": {
   "display_name": "Python",
   "language": "python",
   "name": "conda-env-python-py"
  },
  "language_info": {
   "codemirror_mode": {
    "name": "ipython",
    "version": 3
   },
   "file_extension": ".py",
   "mimetype": "text/x-python",
   "name": "python",
   "nbconvert_exporter": "python",
   "pygments_lexer": "ipython3",
   "version": "3.7.12"
  }
 },
 "nbformat": 4,
 "nbformat_minor": 5
}
